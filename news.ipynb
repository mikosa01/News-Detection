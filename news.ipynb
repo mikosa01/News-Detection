{
 "cells": [
  {
   "cell_type": "code",
   "execution_count": 46,
   "metadata": {},
   "outputs": [],
   "source": [
    "# Importing the Natural Language Toolkit (nltk) library\n",
    "import nltk \n",
    "\n",
    "# Importing the regular expressions (re) library for text processing\n",
    "import re \n",
    "\n",
    "# Importing the stopwords from the nltk.corpus module to filter out common words\n",
    "from nltk.corpus import stopwords \n",
    "\n",
    "# Importing the pandas library for data manipulation and analysis\n",
    "import pandas as pd \n",
    "\n",
    "# Importing the numpy library for numerical operations\n",
    "import numpy as np \n",
    "\n",
    "# Importing the matplotlib.pyplot module for creating visualizations\n",
    "import matplotlib.pyplot as plt \n",
    "\n",
    "# Importing the CountVectorizer from sklearn.feature_extraction.text to convert text into a matrix of token counts\n",
    "from sklearn.feature_extraction.text import CountVectorizer\n",
    "\n",
    "# Importing roc_curve and roc_auc_score from sklearn.metrics to evaluate the performance of a classification model\n",
    "from sklearn.metrics import roc_curve, roc_auc_score\n",
    "\n",
    "# Importing LogisticRegression from sklearn.linear_model for logistic regression modeling\n",
    "from sklearn.linear_model import LogisticRegression\n",
    "\n",
    "# Importing confusion_matrix and classification_report from sklearn.metrics for evaluating classification models\n",
    "from sklearn.metrics import confusion_matrix, classification_report\n",
    "\n",
    "# Importing seaborn for advanced data visualization\n",
    "import seaborn as sns \n",
    "\n",
    "# Importing LabelEncoder from sklearn.preprocessing for encoding target labels with value between 0 and n_classes-1\n",
    "from sklearn.preprocessing import LabelEncoder\n",
    "\n",
    "# Importing accuracy_score and f1_score from sklearn.metrics for evaluating the performance of classification models\n",
    "from sklearn.metrics import accuracy_score, f1_score\n"
   ]
  },
  {
   "cell_type": "code",
   "execution_count": 47,
   "metadata": {},
   "outputs": [],
   "source": [
    "def read_csv(filepath):\n",
    "    # This function reads a CSV file and returns a DataFrame.\n",
    "    \n",
    "    # Using pandas to read the CSV file located at 'filepath'\n",
    "    data = pd.read_csv(filepath)\n",
    "    \n",
    "    # Returning the DataFrame containing the CSV data\n",
    "    return data \n"
   ]
  },
  {
   "cell_type": "code",
   "execution_count": 48,
   "metadata": {},
   "outputs": [],
   "source": [
    "# Reading the 'true.csv' file and storing its content in a DataFrame named 'true'\n",
    "true = read_csv('data/true.csv')\n",
    "\n",
    "# Reading the 'fake.csv' file and storing its content in a DataFrame named 'fake'\n",
    "fake = read_csv('data/fake.csv')\n"
   ]
  },
  {
   "cell_type": "code",
   "execution_count": 49,
   "metadata": {},
   "outputs": [
    {
     "data": {
      "text/html": [
       "<div>\n",
       "<style scoped>\n",
       "    .dataframe tbody tr th:only-of-type {\n",
       "        vertical-align: middle;\n",
       "    }\n",
       "\n",
       "    .dataframe tbody tr th {\n",
       "        vertical-align: top;\n",
       "    }\n",
       "\n",
       "    .dataframe thead th {\n",
       "        text-align: right;\n",
       "    }\n",
       "</style>\n",
       "<table border=\"1\" class=\"dataframe\">\n",
       "  <thead>\n",
       "    <tr style=\"text-align: right;\">\n",
       "      <th></th>\n",
       "      <th>title</th>\n",
       "      <th>text</th>\n",
       "      <th>subject</th>\n",
       "      <th>date</th>\n",
       "    </tr>\n",
       "  </thead>\n",
       "  <tbody>\n",
       "    <tr>\n",
       "      <th>0</th>\n",
       "      <td>As U.S. budget fight looms, Republicans flip t...</td>\n",
       "      <td>WASHINGTON (Reuters) - The head of a conservat...</td>\n",
       "      <td>politicsNews</td>\n",
       "      <td>December 31, 2017</td>\n",
       "    </tr>\n",
       "    <tr>\n",
       "      <th>1</th>\n",
       "      <td>U.S. military to accept transgender recruits o...</td>\n",
       "      <td>WASHINGTON (Reuters) - Transgender people will...</td>\n",
       "      <td>politicsNews</td>\n",
       "      <td>December 29, 2017</td>\n",
       "    </tr>\n",
       "    <tr>\n",
       "      <th>2</th>\n",
       "      <td>Senior U.S. Republican senator: 'Let Mr. Muell...</td>\n",
       "      <td>WASHINGTON (Reuters) - The special counsel inv...</td>\n",
       "      <td>politicsNews</td>\n",
       "      <td>December 31, 2017</td>\n",
       "    </tr>\n",
       "    <tr>\n",
       "      <th>3</th>\n",
       "      <td>FBI Russia probe helped by Australian diplomat...</td>\n",
       "      <td>WASHINGTON (Reuters) - Trump campaign adviser ...</td>\n",
       "      <td>politicsNews</td>\n",
       "      <td>December 30, 2017</td>\n",
       "    </tr>\n",
       "    <tr>\n",
       "      <th>4</th>\n",
       "      <td>Trump wants Postal Service to charge 'much mor...</td>\n",
       "      <td>SEATTLE/WASHINGTON (Reuters) - President Donal...</td>\n",
       "      <td>politicsNews</td>\n",
       "      <td>December 29, 2017</td>\n",
       "    </tr>\n",
       "  </tbody>\n",
       "</table>\n",
       "</div>"
      ],
      "text/plain": [
       "                                               title  \\\n",
       "0  As U.S. budget fight looms, Republicans flip t...   \n",
       "1  U.S. military to accept transgender recruits o...   \n",
       "2  Senior U.S. Republican senator: 'Let Mr. Muell...   \n",
       "3  FBI Russia probe helped by Australian diplomat...   \n",
       "4  Trump wants Postal Service to charge 'much mor...   \n",
       "\n",
       "                                                text       subject  \\\n",
       "0  WASHINGTON (Reuters) - The head of a conservat...  politicsNews   \n",
       "1  WASHINGTON (Reuters) - Transgender people will...  politicsNews   \n",
       "2  WASHINGTON (Reuters) - The special counsel inv...  politicsNews   \n",
       "3  WASHINGTON (Reuters) - Trump campaign adviser ...  politicsNews   \n",
       "4  SEATTLE/WASHINGTON (Reuters) - President Donal...  politicsNews   \n",
       "\n",
       "                 date  \n",
       "0  December 31, 2017   \n",
       "1  December 29, 2017   \n",
       "2  December 31, 2017   \n",
       "3  December 30, 2017   \n",
       "4  December 29, 2017   "
      ]
     },
     "execution_count": 49,
     "metadata": {},
     "output_type": "execute_result"
    }
   ],
   "source": [
    "# Displaying the first five rows of the DataFrame 'true' to get an overview of the data\n",
    "true.head()\n"
   ]
  },
  {
   "cell_type": "code",
   "execution_count": 50,
   "metadata": {},
   "outputs": [],
   "source": [
    "# Adding a new column 'target' to the 'true' DataFrame with the value 'true' for all rows\n",
    "true['target'] = 'true'\n",
    "\n",
    "# Adding a new column 'target' to the 'fake' DataFrame with the value 'fake' for all rows\n",
    "fake['target'] = 'fake'\n"
   ]
  },
  {
   "cell_type": "code",
   "execution_count": 51,
   "metadata": {},
   "outputs": [],
   "source": [
    "# Concatenating the 'true' and 'fake' DataFrames into a single DataFrame 'df'\n",
    "# The ignore_index=True parameter ensures that the index is reset in the combined DataFrame\n",
    "df = pd.concat([true, fake], ignore_index=True)\n"
   ]
  },
  {
   "cell_type": "code",
   "execution_count": 52,
   "metadata": {},
   "outputs": [
    {
     "data": {
      "text/html": [
       "<div>\n",
       "<style scoped>\n",
       "    .dataframe tbody tr th:only-of-type {\n",
       "        vertical-align: middle;\n",
       "    }\n",
       "\n",
       "    .dataframe tbody tr th {\n",
       "        vertical-align: top;\n",
       "    }\n",
       "\n",
       "    .dataframe thead th {\n",
       "        text-align: right;\n",
       "    }\n",
       "</style>\n",
       "<table border=\"1\" class=\"dataframe\">\n",
       "  <thead>\n",
       "    <tr style=\"text-align: right;\">\n",
       "      <th></th>\n",
       "      <th>title</th>\n",
       "      <th>text</th>\n",
       "      <th>subject</th>\n",
       "      <th>date</th>\n",
       "      <th>target</th>\n",
       "    </tr>\n",
       "  </thead>\n",
       "  <tbody>\n",
       "    <tr>\n",
       "      <th>0</th>\n",
       "      <td>As U.S. budget fight looms, Republicans flip t...</td>\n",
       "      <td>WASHINGTON (Reuters) - The head of a conservat...</td>\n",
       "      <td>politicsNews</td>\n",
       "      <td>December 31, 2017</td>\n",
       "      <td>true</td>\n",
       "    </tr>\n",
       "    <tr>\n",
       "      <th>1</th>\n",
       "      <td>U.S. military to accept transgender recruits o...</td>\n",
       "      <td>WASHINGTON (Reuters) - Transgender people will...</td>\n",
       "      <td>politicsNews</td>\n",
       "      <td>December 29, 2017</td>\n",
       "      <td>true</td>\n",
       "    </tr>\n",
       "    <tr>\n",
       "      <th>2</th>\n",
       "      <td>Senior U.S. Republican senator: 'Let Mr. Muell...</td>\n",
       "      <td>WASHINGTON (Reuters) - The special counsel inv...</td>\n",
       "      <td>politicsNews</td>\n",
       "      <td>December 31, 2017</td>\n",
       "      <td>true</td>\n",
       "    </tr>\n",
       "    <tr>\n",
       "      <th>3</th>\n",
       "      <td>FBI Russia probe helped by Australian diplomat...</td>\n",
       "      <td>WASHINGTON (Reuters) - Trump campaign adviser ...</td>\n",
       "      <td>politicsNews</td>\n",
       "      <td>December 30, 2017</td>\n",
       "      <td>true</td>\n",
       "    </tr>\n",
       "    <tr>\n",
       "      <th>4</th>\n",
       "      <td>Trump wants Postal Service to charge 'much mor...</td>\n",
       "      <td>SEATTLE/WASHINGTON (Reuters) - President Donal...</td>\n",
       "      <td>politicsNews</td>\n",
       "      <td>December 29, 2017</td>\n",
       "      <td>true</td>\n",
       "    </tr>\n",
       "  </tbody>\n",
       "</table>\n",
       "</div>"
      ],
      "text/plain": [
       "                                               title  \\\n",
       "0  As U.S. budget fight looms, Republicans flip t...   \n",
       "1  U.S. military to accept transgender recruits o...   \n",
       "2  Senior U.S. Republican senator: 'Let Mr. Muell...   \n",
       "3  FBI Russia probe helped by Australian diplomat...   \n",
       "4  Trump wants Postal Service to charge 'much mor...   \n",
       "\n",
       "                                                text       subject  \\\n",
       "0  WASHINGTON (Reuters) - The head of a conservat...  politicsNews   \n",
       "1  WASHINGTON (Reuters) - Transgender people will...  politicsNews   \n",
       "2  WASHINGTON (Reuters) - The special counsel inv...  politicsNews   \n",
       "3  WASHINGTON (Reuters) - Trump campaign adviser ...  politicsNews   \n",
       "4  SEATTLE/WASHINGTON (Reuters) - President Donal...  politicsNews   \n",
       "\n",
       "                 date target  \n",
       "0  December 31, 2017    true  \n",
       "1  December 29, 2017    true  \n",
       "2  December 31, 2017    true  \n",
       "3  December 30, 2017    true  \n",
       "4  December 29, 2017    true  "
      ]
     },
     "execution_count": 52,
     "metadata": {},
     "output_type": "execute_result"
    }
   ],
   "source": [
    "# Displaying the first five rows of the combined DataFrame 'df' to get an overview of the merged data\n",
    "df.head()\n"
   ]
  },
  {
   "cell_type": "code",
   "execution_count": 53,
   "metadata": {},
   "outputs": [],
   "source": [
    "# Dropping the 'date', 'title', and 'subject' columns from the DataFrame 'df'\n",
    "# The 'axis=1' parameter specifies that columns are to be dropped (axis=0 would drop rows)\n",
    "# The 'inplace=True' parameter modifies the DataFrame in place without returning a new DataFrame\n",
    "df.drop(labels=['date', 'title', 'subject'], axis=1, inplace=True)\n"
   ]
  },
  {
   "cell_type": "code",
   "execution_count": 54,
   "metadata": {},
   "outputs": [
    {
     "name": "stderr",
     "output_type": "stream",
     "text": [
      "/Users/mikosa/nlp/lib/python3.9/site-packages/numpy/core/fromnumeric.py:59: FutureWarning: 'DataFrame.swapaxes' is deprecated and will be removed in a future version. Please use 'DataFrame.transpose' instead.\n",
      "  return bound(*args, **kwds)\n"
     ]
    }
   ],
   "source": [
    "# Splitting the DataFrame 'df' into training, validation, and test sets\n",
    "# The 'sample' method is used to shuffle the DataFrame\n",
    "# 'frac=1' indicates that all rows are to be sampled\n",
    "# 'random_state=60' ensures that the shuffle is reproducible\n",
    "# The 'np.split' function splits the shuffled DataFrame into three sets:\n",
    "# - The first 65% of the data goes to the 'train' set\n",
    "# - The next 30% of the data goes to the 'val' (validation) set\n",
    "# - The remaining 5% of the data goes to the 'test' set\n",
    "train, val, test = np.split(df.sample(frac=1, random_state=60), [int(len(df) * 0.65), int(len(df) * 0.95)])\n"
   ]
  },
  {
   "cell_type": "code",
   "execution_count": 55,
   "metadata": {},
   "outputs": [],
   "source": [
    "# Splitting the 'train' DataFrame into feature (x_train) and target (y_train) arrays\n",
    "# 'x_train' contains the text data for training\n",
    "# 'y_train' contains the target labels for training\n",
    "x_train, y_train = train['text'].values, train['target'].values\n",
    "\n",
    "# Splitting the 'val' (validation) DataFrame into feature (x_val) and target (y_val) arrays\n",
    "# 'x_val' contains the text data for validation\n",
    "# 'y_val' contains the target labels for validation\n",
    "x_val, y_val = val['text'].values, val['target'].values\n",
    "\n",
    "# Splitting the 'test' DataFrame into feature (x_test) and target (y_test) arrays\n",
    "# 'x_test' contains the text data for testing\n",
    "# 'y_test' contains the target labels for testing\n",
    "x_test, y_test = test['text'].values, test['target'].values\n"
   ]
  },
  {
   "cell_type": "code",
   "execution_count": 56,
   "metadata": {},
   "outputs": [],
   "source": [
    "# Compiling a regular expression pattern to replace specific characters with a space\n",
    "REPLACE_BY_WORDS = re.compile('[/(){}\\[\\]\\|@,;]')\n",
    "\n",
    "# Compiling a regular expression pattern to remove any character that is not a lowercase letter or digit\n",
    "BAD_WORDS = re.compile('[^0-9a-z]')\n",
    "\n",
    "# Creating a set of English stopwords using NLTK\n",
    "STOPWORDS = set(stopwords.words('english'))\n",
    "\n",
    "def prepare_text(text):\n",
    "    # Convert the text to lowercase\n",
    "    text = text.lower()\n",
    "    \n",
    "    # Replace the specified characters with a space using the REPLACE_BY_WORDS pattern\n",
    "    text = REPLACE_BY_WORDS.sub(' ', text)\n",
    "    \n",
    "    # Remove any character that is not a lowercase letter or digit using the BAD_WORDS pattern\n",
    "    text = BAD_WORDS.sub(' ', text)\n",
    "    \n",
    "    # Remove stopwords and words with less than 3 characters, then join the remaining words with a space\n",
    "    text = ' '.join(word for word in text.split() if word not in STOPWORDS and len(word) > 2)\n",
    "    \n",
    "    # Return the cleaned and processed text\n",
    "    return text\n"
   ]
  },
  {
   "cell_type": "code",
   "execution_count": 57,
   "metadata": {},
   "outputs": [],
   "source": [
    "# Applying the 'prepare_text' function to each element in 'x_train'\n",
    "# This preprocesses the text data in the training set\n",
    "x_train = [prepare_text(word) for word in x_train]\n",
    "\n",
    "# Applying the 'prepare_text' function to each element in 'x_val'\n",
    "# This preprocesses the text data in the validation set\n",
    "x_val = [prepare_text(word) for word in x_val]\n",
    "\n",
    "# Applying the 'prepare_text' function to each element in 'x_test'\n",
    "# This preprocesses the text data in the test set\n",
    "x_test = [prepare_text(word) for word in x_test]\n"
   ]
  },
  {
   "cell_type": "code",
   "execution_count": 58,
   "metadata": {},
   "outputs": [
    {
     "data": {
      "text/plain": [
       "'probably looking safe space study protesters dartmouth university disrupted students studying library reportedly directing profanity towards white students physically pushing others critical editorial conservative dartmouth review listed epithets hurled protesters fuck filthy white fucks comfort racist shits addition review reports protesters became physically violent men women alike pushed shoved group shut cried another woman pinned wall protesters unleashed insults shouting filthy white bitch face campus reform managed obtain video showing protesters walking library shouting others try study one protesters seen flipping cameraman another gets face studying demanding say black lives matter one protesters posted online saying ashamed protest turned making girl cry protester screamed fuck white tears reports startled aggression small minority students towards students library many supporters movement watch via campus reform via mediaite'"
      ]
     },
     "execution_count": 58,
     "metadata": {},
     "output_type": "execute_result"
    }
   ],
   "source": [
    "# Displaying the third element (index 2) of the preprocessed training text data\n",
    "x_train[2]\n"
   ]
  },
  {
   "cell_type": "code",
   "execution_count": 59,
   "metadata": {},
   "outputs": [
    {
     "name": "stdout",
     "output_type": "stream",
     "text": [
      "Top words: trump, said, president, would, people\n",
      "Top Labels: fake, true\n"
     ]
    }
   ],
   "source": [
    "# Initializing dictionaries to count occurrences of labels and words\n",
    "label_count = {}\n",
    "word_count = {}\n",
    "\n",
    "# Counting the occurrences of each label in the training data\n",
    "for text in y_train:\n",
    "    if text in label_count:\n",
    "        label_count[text] += 1\n",
    "    else:\n",
    "        label_count[text] = 1\n",
    "\n",
    "# Counting the occurrences of each word in the training text data\n",
    "for texts in x_train:\n",
    "    for text in texts.split():\n",
    "        if text in word_count:\n",
    "            word_count[text] += 1\n",
    "        else: \n",
    "            word_count[text] = 1\n",
    "\n",
    "# Sorting the labels by their count in descending order\n",
    "most_labels = sorted(label_count.items(), key=lambda x: x[1], reverse=True)\n",
    "\n",
    "# Sorting the words by their count in descending order and taking the top 5\n",
    "most_words  = sorted(word_count.items(), key=lambda x: x[1], reverse=True)[:5]\n",
    "\n",
    "# Extracting the top labels\n",
    "top_label = [label[0] for label in most_labels]\n",
    "\n",
    "# Extracting the top words\n",
    "top_words = [word[0] for word in most_words]\n",
    "\n",
    "# Joining the top labels and top words into comma-separated strings\n",
    "label_output = \", \".join(top_label)\n",
    "word_output = ', '.join(top_words)\n",
    "\n",
    "# Printing the top words and labels\n",
    "print(f'Top words: {word_output}')\n",
    "print(f\"Top Labels: {label_output}\")\n"
   ]
  },
  {
   "cell_type": "code",
   "execution_count": 60,
   "metadata": {},
   "outputs": [],
   "source": [
    "def countvectorizer(x_train, x_val, x_test):\n",
    "    # Creating an instance of CountVectorizer with specific parameters:\n",
    "    # - min_df=0.10: Ignore terms that appear in less than 10% of the documents\n",
    "    # - max_df=0.90: Ignore terms that appear in more than 90% of the documents\n",
    "    # - ngram_range=(1, 3): Include unigrams, bigrams, and trigrams\n",
    "    # - token_pattern=r'\\b\\w+\\b': Token pattern to identify tokens (words)\n",
    "    countvector = CountVectorizer(min_df=0.10, max_df=0.90, ngram_range=(1, 3), \n",
    "                                  token_pattern=r'\\b\\w+\\b').fit(x_train)\n",
    "    \n",
    "    # Transforming the training text data into a document-term matrix\n",
    "    x_train_count = countvector.transform(x_train)\n",
    "    \n",
    "    # Transforming the validation text data into a document-term matrix\n",
    "    x_val_count = countvector.transform(x_val)\n",
    "    \n",
    "    # Transforming the test text data into a document-term matrix\n",
    "    x_test_count = countvector.transform(x_test)\n",
    "\n",
    "    # Returning the transformed data for training, validation, and test sets,\n",
    "    # along with the vocabulary learned by the CountVectorizer\n",
    "    return x_train_count, x_val_count, x_test_count, countvector.vocabulary_\n"
   ]
  },
  {
   "cell_type": "code",
   "execution_count": 61,
   "metadata": {},
   "outputs": [],
   "source": [
    "# Applying the 'countvectorizer' function to the training, validation, and test text data\n",
    "# This converts the text data into document-term matrices and retrieves the learned vocabulary\n",
    "x_train_count, x_val_count, x_test_count, countvec_vocab = countvectorizer(x_train, x_val, x_test)\n"
   ]
  },
  {
   "cell_type": "code",
   "execution_count": 62,
   "metadata": {},
   "outputs": [
    {
     "name": "stdout",
     "output_type": "stream",
     "text": [
      "{162: 'reuters', 151: 'president', 49: 'donald', 198: 'trump', 166: 'said', 201: 'twitter', 171: 'security', 52: 'election', 62: 'first', 66: 'friday', 192: 'time', 224: 'work', 44: 'deal', 26: 'came', 109: 'many', 187: 'things', 1: '2016', 154: 'presidential', 5: 'already', 3: 'added', 121: 'move', 225: 'working', 165: 'russia', 160: 'republican', 175: 'senator', 168: 'saying', 176: 'several', 220: 'whether', 27: 'campaign', 135: 'officials', 167: 'say', 169: 'says', 42: 'day', 152: 'president donald', 50: 'donald trump', 153: 'president donald trump', 212: 'washington', 203: 'united', 182: 'states', 30: 'change', 178: 'since', 200: 'tuesday', 184: 'support', 25: 'called', 46: 'democratic', 17: 'barack', 132: 'obama', 65: 'four', 228: 'year', 2: 'according', 85: 'international', 147: 'policy', 195: 'told', 43: 'days', 170: 'secretary', 180: 'state', 128: 'new', 4: 'administration', 227: 'would', 39: 'could', 133: 'office', 40: 'country', 229: 'years', 13: 'around', 131: 'next', 138: 'order', 64: 'former', 174: 'senate', 6: 'also', 108: 'man', 104: 'made', 122: 'much', 218: 'well', 193: 'times', 137: 'one', 140: 'party', 24: 'call', 63: 'foreign', 117: 'minister', 130: 'news', 118: 'monday', 99: 'like', 84: 'including', 143: 'percent', 31: 'chief', 100: 'likely', 161: 'republicans', 38: 'congress', 185: 'take', 215: 'way', 69: 'give', 223: 'without', 204: 'united states', 18: 'barack obama', 221: 'white', 74: 'group', 11: 'another', 208: 'video', 173: 'seen', 107: 'making', 214: 'watch', 207: 'via', 191: 'thursday', 29: 'case', 216: 'wednesday', 181: 'statement', 125: 'national', 206: 'used', 146: 'police', 202: 'two', 142: 'people', 105: 'major', 190: 'three', 93: 'law', 22: 'bill', 148: 'political', 95: 'leaders', 164: 'rights', 14: 'asked', 72: 'got', 199: 'trying', 179: 'something', 230: 'yet', 111: 'media', 19: 'based', 114: 'might', 188: 'think', 15: 'away', 106: 'make', 177: 'show', 96: 'least', 116: 'million', 79: 'home', 231: 'york', 102: 'long', 56: 'fact', 90: 'known', 80: 'house', 54: 'even', 68: 'get', 70: 'going', 35: 'com', 163: 'right', 172: 'see', 58: 'featured', 82: 'image', 129: 'new york', 59: 'featured image', 83: 'image via', 60: 'featured image via', 88: 'keep', 94: 'leader', 226: 'world', 12: 'anti', 91: 'last', 73: 'government', 145: 'point', 61: 'federal', 75: 'help', 211: 'war', 123: 'must', 55: 'every', 157: 'really', 127: 'never', 222: 'white house', 36: 'come', 8: 'american', 136: 'old', 86: 'interview', 89: 'know', 97: 'left', 150: 'power', 156: 'put', 76: 'high', 205: 'use', 186: 'taking', 159: 'reported', 53: 'end', 0: '000', 37: 'committee', 217: 'week', 113: 'members', 33: 'clear', 115: 'military', 112: 'member', 183: 'still', 189: 'though', 21: 'believe', 141: 'past', 81: 'however', 20: 'become', 87: 'issue', 126: 'need', 210: 'want', 23: 'business', 103: 'look', 71: 'good', 92: 'later', 77: 'hillary', 34: 'clinton', 139: 'part', 10: 'among', 110: 'may', 78: 'hillary clinton', 7: 'america', 149: 'post', 194: 'today', 124: 'nation', 57: 'far', 47: 'democrats', 51: 'earlier', 101: 'little', 120: 'months', 209: 'vote', 98: 'let', 197: 'top', 196: 'took', 134: 'official', 45: 'decision', 219: 'went', 16: 'back', 9: 'americans', 144: 'place', 213: 'washington reuters', 119: 'month', 158: 'recent', 48: 'department', 28: 'candidate', 67: 'general', 41: 'court', 32: 'city', 155: 'public'}\n"
     ]
    }
   ],
   "source": [
    "# Creating a dictionary that maps indices to words based on the learned vocabulary\n",
    "# This reverses the 'countvec_vocab' dictionary where the key-value pairs are swapped\n",
    "count_reverse_vocab = {i: word for word, i in countvec_vocab.items()}\n",
    "\n",
    "# Printing the reversed vocabulary dictionary to see the mapping of indices to words\n",
    "print(count_reverse_vocab)\n"
   ]
  },
  {
   "cell_type": "code",
   "execution_count": 63,
   "metadata": {},
   "outputs": [
    {
     "data": {
      "text/plain": [
       "['fake', 'true']"
      ]
     },
     "execution_count": 63,
     "metadata": {},
     "output_type": "execute_result"
    }
   ],
   "source": [
    "sorted(label_count.keys())"
   ]
  },
  {
   "cell_type": "code",
   "execution_count": 64,
   "metadata": {},
   "outputs": [],
   "source": [
    "# Creating an instance of LabelEncoder for encoding target labels\n",
    "label_enc = LabelEncoder()\n",
    "\n",
    "# Fitting the LabelEncoder to the sorted unique labels in the training data\n",
    "label_enc.fit(sorted(label_count.keys()))\n",
    "\n",
    "# Transforming the training target labels into numerical format\n",
    "y_train_enc = label_enc.transform(y_train)\n",
    "\n",
    "# Transforming the validation target labels into numerical format\n",
    "y_val_enc = label_enc.transform(y_val)\n",
    "\n",
    "# Transforming the test target labels into numerical format\n",
    "y_test_enc = label_enc.transform(y_test)\n"
   ]
  },
  {
   "cell_type": "code",
   "execution_count": 65,
   "metadata": {},
   "outputs": [],
   "source": [
    "def classifier(x_train, y_train):\n",
    "    # Creating an instance of LogisticRegression\n",
    "    logreg = LogisticRegression()\n",
    "    \n",
    "    # Fitting the logistic regression model to the training data\n",
    "    logreg.fit(x_train, y_train)\n",
    "    \n",
    "    # Returning the trained logistic regression model\n",
    "    return logreg\n"
   ]
  },
  {
   "cell_type": "code",
   "execution_count": 66,
   "metadata": {},
   "outputs": [],
   "source": [
    "# Training the logistic regression classifier using the transformed training data and encoded labels\n",
    "logreg = classifier(x_train_count, y_train_enc)\n",
    "\n",
    "# Predicting the labels for the validation set using the trained logistic regression model\n",
    "y_val_pred = logreg.predict(x_val_count)\n",
    "\n",
    "# Getting the decision scores for the validation set, which indicate the confidence of the predictions\n",
    "y_val_score = logreg.decision_function(x_val_count)\n"
   ]
  },
  {
   "cell_type": "code",
   "execution_count": 67,
   "metadata": {},
   "outputs": [],
   "source": [
    "# Inversely transforming the predicted numerical labels back to their original categorical form\n",
    "y_val_pred_inv = label_enc.inverse_transform(y_val_pred)\n",
    "\n",
    "# Inversely transforming the actual encoded validation labels back to their original categorical form\n",
    "y_val_inv = label_enc.inverse_transform(y_val_enc)\n"
   ]
  },
  {
   "cell_type": "code",
   "execution_count": 68,
   "metadata": {},
   "outputs": [
    {
     "name": "stdout",
     "output_type": "stream",
     "text": [
      "Text:\treuters president elect donald trump formally named former georgia governor sonny perdue nominee secretary agriculture thursday officially completing selection cabinet transition team said statement list republican trump selections top jobs administration note senate confirmation required posts except national security adviser white house posts tillerson spent entire career exxon mobil corp rose chairman chief executive officer 2006 civil engineer training texan joined world largest publicly traded energy company 1975 led several operations united states well yemen thailand russia exxon chief executive maintained close ties moscow opposed sanctions russia incursion crimea mnuchin successful private equity investor hedge fund manager hollywood financier spent years goldman sachs group inc leaving investment bank 2002 assembled investor group buy failed california mortgage lender 2009 rebranded onewest bank built southern california largest bank housing advocacy groups criticized onewest foreclosure practices accusing quick foreclose struggling homeowners mattis retired marine general known tough talk distrust iran battlefield experience iraq afghanistan former leader central command oversees military operations middle east south asia mattis known many forces nickname mad dog rebuked 2005 saying fun shoot people sessions first senator endorse trump presidential bid close ally since son country store owner lawmaker alabama former federal prosecutor long taken tough stance illegal immigration opposing path citizenship undocumented immigrants coats served senator indiana 1989 1999 2011 2017 ambassador germany 2001 2005 previously served representative indiana 4th congressional district zinke first term republican representative montana member house subcommittee natural resources voted legislation would weaken environmental safeguards public lands taken stances favoring coal industry suffered obama administration league conservation voters ranks lawmakers environmental record gave zinke extremely low lifetime score percent ross heads private equity firm ross forbes pegged net worth billion staunch supporter trump ross helped shape trump campaign views trade policy blames massive factory job losses north american free trade agreement nafta canada mexico went force 1994 2001 entry china world trade organization lighthizer served deputy trade representative reagan administration 1980s since spent nearly three decades lawyer representing companies anti dumping anti subsidy cases currently law firm skadden arps slate meagher flom harsh critic china trade practices lighthizer 2010 told congress policymakers take aggressive approach dealing asian country puzder chief executive officer cke restaurants inc apolot runs carl hardee fast food chains vociferous critic government regulation workplace national labor relations board puzder argued higher minimum wages would hurt workers forcing restaurants close praises benefits automation appointment likely antagonize organized labor representative price orthopedic surgeon heads house budget committee representative georgia since 2005 price criticized obamacare championed plan tax credits expanded health savings accounts lawsuit reforms replace abortion former georgia governor perdue served trump agricultural advisory committee campaign perdue republican elected two terms governor serving 2003 2011 served state senate representing rural swath state 100 miles 160 south atlanta finishing second term governor perdue founded perdue partners global trading firm consults provides services companies looking export products shulkin currently secretary health department veterans affairs putting charge country largest healthcare system shulkin physician chosen democratic president barack obama secretary post 2015 spearheaded effort cut waiting times care medical centers trump promised campaign improve medical care veterans shulkin would first secretary served military carson retired neurosurgeon dropped republican presidential nominating race march threw support trump popular writer speaker conservative circles carson reluctant take position incoming administration lack experience federal government first african american picked cabinet spot trump chao labor secretary president george bush eight years first asian american woman hold cabinet position director ingersoll rand plc news corp vulcan materials married senate majority leader mitch mcconnell republican kentucky perry addition list oil drilling advocates skeptical climate change picked senior positions trump cabinet selections worried environmentalists cheered oil gas industry eager expansion perry ran unsuccessfully 2012 republican presidential nomination also briefly ran president 2016 would responsible energy policy oversee nation nuclear weapons program devos billionaire republican donor former chair michigan republican party advocate privatization education chair american federation children pushed state level vouchers families use send children private schools expansion charter schools final leadership role kelly year military career head southern command responsible military activities relationships latin america caribbean year old retired marine general differed obama key issues warned vulnerabilities along united states southern border mexico priebus recently elected serve republican national committee chairman give job join trump white house low key washington operative could help forge ties congress advance trump agenda priebus steadfast supporter trump presidential campaign even party fractured amid choice environmental protection agency administrator scott pruitt ardent opponent obama measures stem climate change oklahoma attorney general pruitt enraged environmental activists fits president elect promise cut agency back eliminate regulation says stifling oil gas drilling pruitt became top state prosecutor oklahoma extensive oil reserves 2011 challenged epa multiple times since representative mick mulvaney south carolina republican fiscal conservative outspoken critic former house representatives speaker john boehner resigned 2015 amid opposition fellow republicans members house freedom caucus mulvaney first elected congress 2010 haley republican governor south carolina since 2011 little experience foreign policy federal government daughter indian immigrants led successful push last year remove confederate battle flag grounds south carolina state capitol killing nine black churchgoers charleston white gunman mcmahon founder former chief executive professional wrestling franchise wwe based stamford connecticut ran unsuccessfully republican senate seat connecticut 2010 2012 early supporter trump presidential campaign representative pompeo third term congressman kansas serves house representatives intelligence committee oversees cia national security agency cyber security retired army officer harvard law school graduate pompeo supports government sweeping collection americans communications data wants scrap nuclear deal iran walter jay clayton new york based attorney advises clients major wall street deals specializing public private mergers acquisitions capital raising efforts past clients included alibaba group holding company oaktree capital group big banks retired lieutenant general flynn early trump supporter serves vice chairman transition team began army career 1981 deployed afghanistan iraq flynn became head defense intelligence agency 2012 obama retired year earlier expected according media reports became fierce critic obama foreign policy tom bossert worked deputy homeland security adviser former president george bush serve assistant president homeland security counterterrorism currently runs risk management consulting firm cyber risk fellowship atlantic council think tank washington cohn president chief operating officer goldman sachs widely considered heir apparent lloyd blankfein ceo wall street firm trump hammered goldman blankfein presidential campaign releasing television called blankfein part global power structure robbed america working class navarro suggested stepped engagement taiwan including assistance submarine development program professor university california irvine advised trump campaign navarro argued washington stop referring one china policy stopped short suggesting recognize taipei need unnecessarily poke panda viola graduate military academy west point army veteran served famed 101st airborne division founded high frequency trading firm virtu financial inc served chairman new york mercantile exchange began financial services career sept 2001 qaeda attacks new york washington viola helped found combating terrorism center west point owner florida panthers ice hockey team chief white house strategist senior counselor steve bannon former head conservative website breitbart news came aboard trump campaign chairman august rabble rousing conservative media figure helped shift breitbart forum alt right loose confederation reject mainstream politics includes neo nazis white supremacists anti semites hiring signals trump dedication operating outside norms washington white house chief staff bannon serve trump gatekeeper agenda setter\n",
      " True label:\t true\n",
      " Predicted label:\ttrue\n",
      "\n",
      "\n",
      "Text:\tlondon reuters donald trump said unlikely good relationship david cameron british prime minister cast presidential candidate divisive stupid wrong proposing temporary ban muslims entering united states cameron criticised trump british parliament call ban muslims suggested new york billionaire presumptive republican presidential nominee would unite britain visited looks like going good relationship knows trump told britain itv television station interview aired monday asked ties would fare presidential election nov well number one stupid okay tell right opposite number two terms divisive think divisive person unifier unlike president right trump said referring barack obama cameron spokesman said prime minister stood original comments united states britain closest ally companies biggest foreign direct investors britain called special relationship washington cornerstone british diplomacy since world war two trump often controversial comments everything muslims women future nato relations russia drawn criticism berlin paris european capitals neither germany angela merkel france francois hollande gone far cameron chiding trump wins november would charge world powerful nation largest economy january next year cameron work whoever elected president committed maintaining special relationship prime minister spokesman said made views donald trump comments clear disagrees spokesman said continues believe preventing muslims entering divisive stupid wrong stands comments spokesman refused answer questions cameron would like see win november said telephone call meeting planned trump adding one proposed consider conciliatory note cameron said trump deserves respect making gruelling republican primary process times newspaper also reported last month cameron ordered diplomats attempt repair relations trump hope good relationship sounds like willing address problem either trump told itv trump also criticised london newly elected muslim mayor sadiq khan making rude statements trump initially welcomed khan election said would make exception event ban muslims entering united states drawing sharp reply khan donald trump ignorant view islam could make countries less safe risks alienating mainstream muslims around world plays hands extremists khan said responding criticism itv interview trump said know never met know think rude statements frankly tell remember statements nasty statements ignorant say\n",
      " True label:\t true\n",
      " Predicted label:\ttrue\n",
      "\n",
      "\n",
      "Text:\treuters twitter inc faced questions friday approach internal security company employee briefly deactivated president donald trump account minute blackout realdonaldtrump account late thursday drew widespread attention microblogging site trump frequently uses twitter announce policy assail adversaries tangle countries including north korea world affairs users voiced fears future employee interference technology glitches involving trump account could threaten national security incident also came twitter grapples overall criticism handling account suspensions user abuse ever changing terms service twitter said tweet friday implemented safeguards prevent happening able share details internal investigation updates security measures take seriously teams company representative declined answer questions including many employees suspend account special protections high profile users like trump trump back twitter soon account restored employee send alter tweets cyber security experts previously speculated twitter could installed special protections trump account ability access certain devices learned done twitter customer support employee employee last day conducting full internal review twitter said tweet late thursday continuing investigate taking steps prevent happening company said earlier tweet reuters could determine many twitter employees authority delete accounts ability tamper ways sending bogus tweets seriousness need accountability social media sites ken meyer served digital director former vice president joe biden tweeted lone employees able change statements president speaking condition anonymity former twitter employee said unlikely worker suspension privileges would also able hijack account send messages different types access former employee said sure anyone twitter tweet someone else account another person familiar twitter operations speaking condition anonymity said employees currently cannot post user account change even view user password encrypted joseph lorenzo hall chief technologist nonprofit center democracy technology said suspension reflected need twitter transparent ability control accounts also demonstrated perils head state relying digital technology primary mode communication would nice rely older forms policy communication solid foundations said adding twitter require two person controls certain high profile accounts new york times friday reported rogue employee fact contractor citing two anonymous sources familiar incident twitter tech companies ramped reliance contractors due pressure respond quickly thoroughly content violations companies desperately reliant upon human nuance sophistication decision making human quite risk sarah roberts ucla professor studies contractors said tweet bind company friday separately announced minor updates rules including clarity actions could result account suspension latest string iterative changes amid criticism platform slowly inconsistently responds abuse twitter shares percent afternoon trading trump nearly million twitter followers responded temporary loss account boasting wide reach service twitter account taken minutes rogue employee trump said twitter early friday guess word must finally getting impact used twitter attack opponents promote policies 2016 presidential campaign since taking office january thursday incident also raised questions twitter secures official potus presidential account accounts could potentially influence world events technology companies including twitter meanwhile attack lawmakers failing stem spread russian propaganda misinformation platforms twitter particular long criticized enough police platform respond complaints harassment though temporary deletion trump account sparked flood criticism twitter users many president critics also said happy see account disabled 2013 hackers took control main account associated press tweeted explosions white house injured president barack obama causing stocks briefly plunge\n",
      " True label:\t true\n",
      " Predicted label:\ttrue\n",
      "\n",
      "\n",
      "Text:\tlindsey graham south carolina republican unable differentiate gop presidential candidates august 2015 national polls said percent republican leans republican voters said never vote zero percent said would vote even someone else polled percent cue joke hard would find someone else already race highest graham polled nationally percent according real clear politics yet morning cbs face nation discussing president donald trump inaugural address calling policy informed putting america first sen lindsey graham said know america first means graham said president america first throwback sand isolationism first used phrase world would deteriorate even quicker new way ronald reagan peace strength would like work know america first means breitbart\n",
      " True label:\t fake\n",
      " Predicted label:\tfake\n",
      "\n",
      "\n",
      "Text:\talgonac mich reuters back april already early signs quiet michigan town rural american discontent helped propel donald trump election victory even underestimated washington establishment pollsters hillary clinton campaign return visit tuesday election reuters found many algonac 000 residents jubilant trump captured white house although also echoes people said seven months ago uncertain high stakes gamble bare fact success drew shrugs else city folks really expect would win reuters first visited town bend clair river april results republican democratic parties primary elections suggested might hotbed dissatisfaction status quo would become dominant force november reut 2favjqy town county state disproportionately turned primaries unexpected outsider candidates republican trump rich real estate developer television star never held political office democratic socialist bernie sanders senator vermont emerged clinton closest rival democratic party nomination trump went win party nomination sanders beaten clinton even though came problem different perspectives men fired town sour mood striking chord talk rigged economic system loud disgust decline american manufacturing algonac leans republican visits took time find trump fans little longer find sanders fans took days asking around find someone warm word clinton tuesday vote algonac percent trump percent clinton residents algonac easily list relatives neighbors struggled painful decline manufacturing forced move auto factories well paid union jobs hour away detroit area shut moved abroad older residents recall decades back algonac still proud self sufficient manufacturing hub employing scores locals chris craft factory turned photogenic wooden boats remain prized wealthy collectors pete beauregard turned factory harbor club town summer visitors stow boats rural area going want heard said delighting trump victory road jay deboyer dive bar worked younger man drinking afternoon glass water dressed suit worn deliver clair county final elections results courthouse role county clerk center country put donald trump office said economy okay shut mouths work said describing sort people live places like algonac percent residents white start smack start telling guys working coal mine west virginia good country going put job good cleaner air going put job start create constituency people fall category enemy enemy friend mentioning clinton former secretary state senator first lady tended draw scorn among algonac residents april even among democrats said viewed untrustworthy election loss emotional concession speech week appeared soften expressing ill feeling crude terms trump bitch reads tall wooden sign alongside main road town evoking familiar anti clinton slogan among trump fans seeing photographed paul paulus wandered building regreasing old tractors boast built entirely neighbors particularly women told reuters visits even disliked clinton despaired insults coarse language trump fans reveled paulus described victory qualms tried get township take said smiling memory fight looked sign township said coming bitch bad word female dog jan evans devout year old christian runs store making slogan shirts local schools sports teams said thought better ways talk people sympathized sort anxiety moved people support trump recently learned monthly health insurance premiums obamacare healthcare law trump said repeal replace would 120 357 worried trump victory would help either know healthcare plans given details said voted filled ballot lines local state elections left presidential vote end give time think neither one really deserved said clinton trump pen hovered quite declined say ballot landed everybody little bit frightened hopeful know need change said trump victory change\n",
      " True label:\t true\n",
      " Predicted label:\ttrue\n",
      "\n",
      "\n",
      "Text:\tdear america would like apologize behalf britain awful political commentators migrated shores first piers morgan louise mensch attempted declare war iran behalf country satire people britain awoke five eight hours earlier morning depending timezone discover louise mensch embarrassed nations hate tweeting president iran mensch served member parliament conservative party aristocrats private school types migrating new york serve interests media magnate rupert murdoch directly think ann coulter put washing machine high temperature pretty accurate mental image mensch however seems gone bit native thinks declare war behalf put republican president white house rejoice day new president republican brings hammer iran hassanrouhani https i6im0p3mbd louise mensch louisemensch january 2016but mensch stop carried hate tweeting iranian president hassan rouhani day quite thinks achieve anyone guess appears believed president iran would stopped tracks stuffed western media hack carping social media sexist racist hassanrouhani forces sailor repellent forced hijab iran pic twitter com mxpbivlf6e louise mensch louisemensch january 2016in meantime president obama john kerry busy executing kind grown politics diplomacy one scale international incident unlike conservative lawmakers pundits bear burden responsibility actually getting sailors home merely scoring political points capture treatment fact able secure release sailors entirely unharmed within hours embarrassing ultimatums extended hostage crisis saber rattling problem solved time move meanwhile entire conservative media political sphere remains total meltdown hyperventilating issue already resolved expertly america world cannot afford put white house 2016 featured image via wikimedia flickr\n",
      " True label:\t fake\n",
      " Predicted label:\tfake\n",
      "\n",
      "\n",
      "Text:\tfeel bern lot gullible young people fed big line bullsh socialist senator bernie sanders proud new owner summer home champlain islands seven days confirmed burlington resident last week plopped nearly 600 000 lakefront camp north hero sanders new crib four bedrooms 500 feet lake champlain beachfront east side island facing vermont new york bern keep home burlington use new camp seasonally traveled islands many times years almost always day trips sanders wife jane meara sanders told seven days written statement impressed north hero community eaten north hero house shore acres suggested friends looking beautiful place stay dinner anne shrine isle motte favorite church nearby last tuesday day closing relaxed looking bernie sanders posed photo hero welcome general store route store bit south new abode serves sandwich called feel bun senator honor deli delight consists huge homemade roll sliced turkey fresh apple chutney hot pepper relish lettuce tomato provolone cheese fair billionaire class controls percent bread menu description reads sandwich rest keep nourished everything cool free seven days\n",
      " True label:\t fake\n",
      " Predicted label:\tfake\n",
      "\n",
      "\n",
      "Text:\tearlier tuesday donald trump decided accept purple heart supporter earned service thoughtful gift one trump refused accept considering medal earned greatly injured dying line duty serving nation given name president top trump said always wanted one way much easier one wants purple heart one something military actually try avoid earning earned greatly earned comes respect grateful nation sacrifice given one person actually serve nation actually earned purple heart none rep tammy duckworth lost legs damaged right arm serving sacrifice trump never know anything considering got five deferments serving military time war hearing trump remarks surrounding purple heart duckworth tweeted donald trump one usually looks awarded purple heart nothing easy realdonaldtrump one usually looks awarded purple heart nothing easy pic twitter com k59hlnzmhk tammy duckworth tammyforil august 2016good tammy showing trump actual sacrifice serving one nation courage looks like featured photo win mcnamee getty images\n",
      " True label:\t fake\n",
      " Predicted label:\tfake\n",
      "\n",
      "\n",
      "Text:\tpresident elect donald trump currently trying drown insecurities meryl streep absolutely gutted golden globes speech sunday night far spent monday trying trash steep twitter take credit jobs create trying hype inauguration course failing miserably got called major way apparently oblivious fact whole country knows inauguration embarrassment respectable celebrity wants perform trump told insane lie popular inauguration going despite fact parade significantly shortened due unpopularity trump actually said many people would attending inauguration dress shops washington sold said interview new york times going unbelievable perhaps record setting turnout inauguration plenty movie entertainment stars dress shops sold washington hard find great dress inauguration everyone shocked statement especially shopkeepers washington actually tons evening gowns available amazing fact check washington post manager friendship heights neiman marcus store martha slagle quoted debunking trump lies definitely thousand evening gowns choose slagle also said store stuffed beautiful gowns smaller stores always dresses stores stock ahead inauguration case high demand however seem humiliating enough trump getting destroyed twitter absolutely hilarious twittertwittertwittertwittertrump pathological liar psychopath lie like shows truly fit president featured image via scott olson getty images\n",
      " True label:\t fake\n",
      " Predicted label:\tfake\n",
      "\n",
      "\n",
      "Text:\t\n",
      " True label:\t fake\n",
      " Predicted label:\tfake\n",
      "\n",
      "\n"
     ]
    }
   ],
   "source": [
    "# Loop through the first four entries of the validation set.\n",
    "for i in range(10): \n",
    "    # Print the text data, true label, and predicted label for each entry.\n",
    "    # This format makes it easy to visually compare the predicted labels with the true labels.\n",
    "    print('Text:\\t{}\\n True label:\\t {}\\n Predicted label:\\t{}\\n\\n'\\\n",
    "          .format(x_val[i], y_val_inv[i], y_val_pred_inv[i]))"
   ]
  },
  {
   "cell_type": "code",
   "execution_count": 69,
   "metadata": {},
   "outputs": [],
   "source": [
    "def print_evaluation_scores(y_val, predicted):\n",
    "    # Print the accuracy of the predictions: the proportion of the total number of predictions that were correct.\n",
    "    print(f\"Accuracy Score: {accuracy_score(y_val, predicted)}\")\n",
    "    \n",
    "    # Print the F1 score using 'macro' averaging:\n",
    "    # Calculate metrics for each label, and find their unweighted mean. This does not take label imbalance into account.\n",
    "    print(f\"F1 Score(Macro): {f1_score(y_val, predicted, average='macro')}\")\n",
    "    \n",
    "    # Print the F1 score using 'micro' averaging:\n",
    "    # Calculate metrics globally by counting the total true positives, false negatives, and false positives.\n",
    "    print(f\"F1 Score(Micro): {f1_score(y_val, predicted, average='micro')}\")\n",
    "    \n",
    "    # Print the F1 score using 'weighted' averaging:\n",
    "    # Calculate metrics for each label, and find their average weighted by support (the number of true instances for each label).\n",
    "    print(f\"F1 Score(Weighted): {f1_score(y_val, predicted, average='weighted')}\")"
   ]
  },
  {
   "cell_type": "code",
   "execution_count": 70,
   "metadata": {},
   "outputs": [
    {
     "name": "stdout",
     "output_type": "stream",
     "text": [
      "Accuracy Score: 0.9938381588715665\n",
      "F1 Score(Macro): 0.9938314869220609\n",
      "F1 Score(Micro): 0.9938381588715665\n",
      "F1 Score(Weighted): 0.9938384149057461\n"
     ]
    }
   ],
   "source": [
    "# Assuming y_val and y_val_pred are already defined:\n",
    "print_evaluation_scores(y_val_enc, y_val_pred)"
   ]
  },
  {
   "cell_type": "code",
   "execution_count": 71,
   "metadata": {},
   "outputs": [
    {
     "name": "stdout",
     "output_type": "stream",
     "text": [
      "Accuracy Score: 0.9948942877702772\n",
      "F1 Score(Macro): 0.9948807268770772\n",
      "F1 Score(Micro): 0.9948942877702772\n",
      "F1 Score(Weighted): 0.9948946398840154\n"
     ]
    }
   ],
   "source": [
    "# Assuming y_val and y_val_pred are already defined:\n",
    "print_evaluation_scores(y_train_enc, logreg.predict(x_train_count))"
   ]
  },
  {
   "cell_type": "code",
   "execution_count": 72,
   "metadata": {},
   "outputs": [
    {
     "name": "stdout",
     "output_type": "stream",
     "text": [
      "Accuracy Score: 0.9919821826280624\n",
      "F1 Score(Macro): 0.9919758636520324\n",
      "F1 Score(Micro): 0.9919821826280624\n",
      "F1 Score(Weighted): 0.9919821826280624\n"
     ]
    }
   ],
   "source": [
    "# Assuming y_val and y_val_pred are already defined:\n",
    "print_evaluation_scores(y_test_enc, logreg.predict(x_test_count))"
   ]
  },
  {
   "cell_type": "code",
   "execution_count": 73,
   "metadata": {},
   "outputs": [
    {
     "data": {
      "image/png": "[encoded data removed]",
      "text/plain": [
       "<Figure size 640x480 with 1 Axes>"
      ]
     },
     "metadata": {},
     "output_type": "display_data"
    }
   ],
   "source": [
    "\n",
    "# Predicting probabilities for the positive class (AI) using the trained classifier\n",
    "y_pred_proba = logreg.predict_proba(x_val_count)[:, 1]\n",
    "\n",
    "# Calculating the false positive rate (fpr) and true positive rate (tpr) for the ROC curve\n",
    "fpr, tpr, _ = roc_curve(y_val_enc, y_pred_proba)\n",
    "\n",
    "# Calculating the area under the ROC curve (AUC)\n",
    "auc = roc_auc_score(y_val_enc, y_pred_proba)\n",
    "\n",
    "# Plotting the ROC curve\n",
    "plt.plot(fpr, tpr, label=\"ROC, auc=\" + str(auc))\n",
    "plt.title('Fake News Classification ROC')\n",
    "plt.ylabel('True Positive Rate')\n",
    "plt.xlabel('False Positive Rate')\n",
    "plt.legend(loc=4)\n",
    "plt.show()"
   ]
  },
  {
   "cell_type": "code",
   "execution_count": 74,
   "metadata": {},
   "outputs": [
    {
     "data": {
      "text/plain": [
       "<Axes: >"
      ]
     },
     "execution_count": 74,
     "metadata": {},
     "output_type": "execute_result"
    },
    {
     "data": {
      "image/png": "[encoded data removed]",
      "text/plain": [
       "<Figure size 640x480 with 2 Axes>"
      ]
     },
     "metadata": {},
     "output_type": "display_data"
    }
   ],
   "source": [
    "conf = confusion_matrix(y_val_enc, y_val_pred)\n",
    "\n",
    "sns.heatmap(conf, annot= True)"
   ]
  },
  {
   "cell_type": "code",
   "execution_count": null,
   "metadata": {},
   "outputs": [],
   "source": []
  }
 ],
 "metadata": {
  "kernelspec": {
   "display_name": "nlp",
   "language": "python",
   "name": "python3"
  },
  "language_info": {
   "codemirror_mode": {
    "name": "ipython",
    "version": 3
   },
   "file_extension": ".py",
   "mimetype": "text/x-python",
   "name": "python",
   "nbconvert_exporter": "python",
   "pygments_lexer": "ipython3",
   "version": "3.9.6"
  }
 },
 "nbformat": 4,
 "nbformat_minor": 2
}
